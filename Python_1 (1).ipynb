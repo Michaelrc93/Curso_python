{
  "nbformat": 4,
  "nbformat_minor": 0,
  "metadata": {
    "colab": {
      "provenance": []
    },
    "kernelspec": {
      "name": "python3",
      "display_name": "Python 3"
    },
    "language_info": {
      "name": "python"
    }
  },
  "cells": [
    {
      "cell_type": "markdown",
      "source": [
        "**Buenos días** estoy aprendiendo ptyhon, pero a esta es super duro."
      ],
      "metadata": {
        "id": "YbINdeaWlgwo"
      }
    },
    {
      "cell_type": "code",
      "execution_count": null,
      "metadata": {
        "id": "xt951HIbjWJH",
        "colab": {
          "base_uri": "https://localhost:8080/"
        },
        "outputId": "2cb9e70b-66b2-4dc7-e658-17268118102c"
      },
      "outputs": [
        {
          "output_type": "stream",
          "name": "stdout",
          "text": [
            "Diosito no me abandone quiero ser millonario\n"
          ]
        }
      ],
      "source": [
        "#Esto es una broma yo no quiero ser millonario\n",
        "print('Diosito no me abandone quiero ser millonario')"
      ]
    },
    {
      "cell_type": "code",
      "source": [
        "#Este soy yo\n",
        "print(\"Hola soy Michael Rodriguez, tengo 31 años me gusta el futbol\")"
      ],
      "metadata": {
        "colab": {
          "base_uri": "https://localhost:8080/"
        },
        "id": "tI3__6BLmlwo",
        "outputId": "9bcb3007-3aa1-4a39-a808-3702881dc1f2"
      },
      "execution_count": null,
      "outputs": [
        {
          "output_type": "stream",
          "name": "stdout",
          "text": [
            "Hola soy Michael Rodriguez, tengo 31 años me gusta el futbol\n"
          ]
        }
      ]
    },
    {
      "cell_type": "code",
      "source": [
        "\"Sali con tu mujer ¿Que?, sali con tu mujer ¿que? SALI CON TU MUJER\""
      ],
      "metadata": {
        "colab": {
          "base_uri": "https://localhost:8080/",
          "height": 35
        },
        "id": "lomyQfhmnJa9",
        "outputId": "4ca75d74-7312-43d4-bec6-c531d2b007f0"
      },
      "execution_count": null,
      "outputs": [
        {
          "output_type": "execute_result",
          "data": {
            "text/plain": [
              "'Sali con tu mujer ¿Que?, sali con tu mujer ¿que? SALI CON TU MUJER'"
            ],
            "application/vnd.google.colaboratory.intrinsic+json": {
              "type": "string"
            }
          },
          "metadata": {},
          "execution_count": 5
        }
      ]
    },
    {
      "cell_type": "markdown",
      "source": [
        "**TIPOS DE DATOS**"
      ],
      "metadata": {
        "id": "Z6tBjtsvn1hx"
      }
    },
    {
      "cell_type": "code",
      "source": [
        "#Tipo de dato entero, en ingles integer y la abreviatura para python es int\n",
        "type(24)"
      ],
      "metadata": {
        "colab": {
          "base_uri": "https://localhost:8080/"
        },
        "id": "D0PROJDrny43",
        "outputId": "c2796696-108d-46fa-d684-15cce6ef19d7"
      },
      "execution_count": null,
      "outputs": [
        {
          "output_type": "execute_result",
          "data": {
            "text/plain": [
              "int"
            ]
          },
          "metadata": {},
          "execution_count": 8
        }
      ]
    },
    {
      "cell_type": "code",
      "source": [
        "#Tipo de dato flotante que en español, lo conocemos como decimal su abreviatura es float\n",
        "type(9.8)"
      ],
      "metadata": {
        "colab": {
          "base_uri": "https://localhost:8080/"
        },
        "id": "fLJD92Bmo2Fm",
        "outputId": "a19823c6-90e3-492d-eaaa-e45cb81893cc"
      },
      "execution_count": null,
      "outputs": [
        {
          "output_type": "execute_result",
          "data": {
            "text/plain": [
              "float"
            ]
          },
          "metadata": {},
          "execution_count": 10
        }
      ]
    },
    {
      "cell_type": "code",
      "source": [
        "#Boleanos son tipos de datos que solo pueden tener dos valores el true (verdadero) o el false (Falso) su abreviatura es bool\n",
        "type(True)"
      ],
      "metadata": {
        "colab": {
          "base_uri": "https://localhost:8080/"
        },
        "id": "pOCF59PzpIuT",
        "outputId": "dd98c1cc-0647-407e-d134-1fb9aa1294ba"
      },
      "execution_count": null,
      "outputs": [
        {
          "output_type": "execute_result",
          "data": {
            "text/plain": [
              "bool"
            ]
          },
          "metadata": {},
          "execution_count": 13
        }
      ]
    },
    {
      "cell_type": "code",
      "source": [
        "#Tipos de datos cadena, en ingles strings, siempre deben tener comillas su abreviatura es str\n",
        "type(\"en algun lugar de la mancha cuyo nombre no puedo acordarme...\")"
      ],
      "metadata": {
        "colab": {
          "base_uri": "https://localhost:8080/"
        },
        "id": "HinYhSRPp2vk",
        "outputId": "e7b426bf-3126-42bc-8238-8f7a1b328f3e"
      },
      "execution_count": null,
      "outputs": [
        {
          "output_type": "execute_result",
          "data": {
            "text/plain": [
              "str"
            ]
          },
          "metadata": {},
          "execution_count": 14
        }
      ]
    },
    {
      "cell_type": "markdown",
      "source": [
        "Metodos de las cadenas, las cadenas tienen funciones pequeñas que me ayudan a formatearlas"
      ],
      "metadata": {
        "id": "G5EKSEKJqZV-"
      }
    },
    {
      "cell_type": "code",
      "source": [
        "print(\"Hola estoy aprendiendo python\".upper())#Este metodo me sirve para poner mayusculas\n",
        "print(\"con pythOn pueDo pediR Un aumENto\".lower())#Este metodo me sirve para poner en minusculas\n",
        "print(\"Cien años de soledad\".title())#Este metodo me sirve para poner en mayuscula cada inicio de palabra"
      ],
      "metadata": {
        "colab": {
          "base_uri": "https://localhost:8080/"
        },
        "id": "LZzuL-stqP3Z",
        "outputId": "fcc3c7a5-4dbb-4538-8073-f94f0157212a"
      },
      "execution_count": null,
      "outputs": [
        {
          "output_type": "stream",
          "name": "stdout",
          "text": [
            "HOLA ESTOY APRENDIENDO PYTHON\n",
            "con python puedo pedir un aumento\n",
            "Cien Años De Soledad\n"
          ]
        }
      ]
    },
    {
      "cell_type": "code",
      "source": [
        "#Para contar las letras de una cadena puedo usar el metodo count\n",
        "print(\"Que hay que poder hacer para aprender python\".count('a'))"
      ],
      "metadata": {
        "colab": {
          "base_uri": "https://localhost:8080/"
        },
        "id": "_Tx-nh_RqzeJ",
        "outputId": "ded8e55b-cb01-42a7-8e65-7a6c1422d2f5"
      },
      "execution_count": null,
      "outputs": [
        {
          "output_type": "stream",
          "name": "stdout",
          "text": [
            "5\n"
          ]
        }
      ]
    },
    {
      "cell_type": "code",
      "source": [
        "print(\"\"\"Mi edad es 31 años\n",
        "mi genero es masculino\"\"\")"
      ],
      "metadata": {
        "colab": {
          "base_uri": "https://localhost:8080/"
        },
        "id": "digpKiHcr_Nq",
        "outputId": "56eff503-0292-4df3-d35c-ff4cc24d6097"
      },
      "execution_count": null,
      "outputs": [
        {
          "output_type": "stream",
          "name": "stdout",
          "text": [
            "Mi edad es 31 años\n",
            "mi genero es masculino\n"
          ]
        }
      ]
    },
    {
      "cell_type": "code",
      "source": [
        "#como reemplazar un valor dentro de uuna cadena utilizando replace\n",
        "print(\"Hola soy michael rodriguez\".replace('m','M'))"
      ],
      "metadata": {
        "colab": {
          "base_uri": "https://localhost:8080/"
        },
        "id": "0OannfYjs46y",
        "outputId": "2bd19d37-70fb-4f7e-e596-25b457db97fa"
      },
      "execution_count": null,
      "outputs": [
        {
          "output_type": "stream",
          "name": "stdout",
          "text": [
            "Hola soy Michael rodriguez\n"
          ]
        }
      ]
    },
    {
      "cell_type": "code",
      "source": [
        "print(\"michael RodRiguez camaRgo\".replace('R',\"r\"))"
      ],
      "metadata": {
        "colab": {
          "base_uri": "https://localhost:8080/"
        },
        "id": "6UkTxRqftlol",
        "outputId": "c895ef79-a12b-42ac-a38c-820d184155ca"
      },
      "execution_count": null,
      "outputs": [
        {
          "output_type": "stream",
          "name": "stdout",
          "text": [
            "michael rodriguez camargo\n"
          ]
        }
      ]
    },
    {
      "cell_type": "markdown",
      "source": [
        "**Variables**\n",
        "Son espacios de memoria que nos sirven para guardar información particular, deben tener un nombre que nos ayude a identificar su contenido"
      ],
      "metadata": {
        "id": "1OTXqlVouHYQ"
      }
    },
    {
      "cell_type": "code",
      "source": [
        "#Para declarar una variable se usa nombre de la variable, el signo igual y el valor\n",
        "#ejemplo: edad=13\n",
        "nombre=\"Michael Steve\"\n",
        "apellido=\"Rodriguez Camargo\"\n",
        "edad=31\n",
        "estado_civil=\"union libre\""
      ],
      "metadata": {
        "id": "b9qSSpLCt45A"
      },
      "execution_count": null,
      "outputs": []
    },
    {
      "cell_type": "code",
      "source": [
        "nombre"
      ],
      "metadata": {
        "colab": {
          "base_uri": "https://localhost:8080/",
          "height": 35
        },
        "id": "igiS84uOvBnT",
        "outputId": "09f7121d-6006-4640-f030-ca8d8510eef1"
      },
      "execution_count": null,
      "outputs": [
        {
          "output_type": "execute_result",
          "data": {
            "text/plain": [
              "'Michael Steve'"
            ],
            "application/vnd.google.colaboratory.intrinsic+json": {
              "type": "string"
            }
          },
          "metadata": {},
          "execution_count": 25
        }
      ]
    },
    {
      "cell_type": "code",
      "source": [
        "apellido"
      ],
      "metadata": {
        "colab": {
          "base_uri": "https://localhost:8080/",
          "height": 35
        },
        "id": "5cdJp1LHvCvw",
        "outputId": "3f46eeca-553a-41e9-c8ed-bc7e12a04be6"
      },
      "execution_count": null,
      "outputs": [
        {
          "output_type": "execute_result",
          "data": {
            "text/plain": [
              "'Rodriguez Camargo'"
            ],
            "application/vnd.google.colaboratory.intrinsic+json": {
              "type": "string"
            }
          },
          "metadata": {},
          "execution_count": 26
        }
      ]
    },
    {
      "cell_type": "code",
      "source": [
        "edad"
      ],
      "metadata": {
        "colab": {
          "base_uri": "https://localhost:8080/"
        },
        "id": "_bcYC46IvEXs",
        "outputId": "e93b1dd2-ef58-4087-9e77-f4855c7af2e5"
      },
      "execution_count": null,
      "outputs": [
        {
          "output_type": "execute_result",
          "data": {
            "text/plain": [
              "31"
            ]
          },
          "metadata": {},
          "execution_count": 27
        }
      ]
    },
    {
      "cell_type": "code",
      "source": [
        "estado_civil"
      ],
      "metadata": {
        "colab": {
          "base_uri": "https://localhost:8080/",
          "height": 35
        },
        "id": "xU2BTFW8vFif",
        "outputId": "b9910fb5-809c-4221-bc43-c90e884b5f83"
      },
      "execution_count": null,
      "outputs": [
        {
          "output_type": "execute_result",
          "data": {
            "text/plain": [
              "'union libre'"
            ],
            "application/vnd.google.colaboratory.intrinsic+json": {
              "type": "string"
            }
          },
          "metadata": {},
          "execution_count": 30
        }
      ]
    },
    {
      "cell_type": "code",
      "source": [
        "#nombre de mi hijo que no tengo\n",
        "hijo_nombre=\"pachito\"\n",
        "hijo_apellido=\"mentiras\""
      ],
      "metadata": {
        "id": "hW5KCnmDvKQ4"
      },
      "execution_count": null,
      "outputs": []
    },
    {
      "cell_type": "code",
      "source": [
        "hijo_apellido=\"verdades\""
      ],
      "metadata": {
        "id": "0iw8XAuXvY6b"
      },
      "execution_count": null,
      "outputs": []
    },
    {
      "cell_type": "code",
      "source": [
        "hijo_nombre"
      ],
      "metadata": {
        "colab": {
          "base_uri": "https://localhost:8080/",
          "height": 35
        },
        "id": "frzJPHrjvjF-",
        "outputId": "c86fc5ef-db4b-4551-e40b-61944a210e2d"
      },
      "execution_count": null,
      "outputs": [
        {
          "output_type": "execute_result",
          "data": {
            "text/plain": [
              "'pachito'"
            ],
            "application/vnd.google.colaboratory.intrinsic+json": {
              "type": "string"
            }
          },
          "metadata": {},
          "execution_count": 36
        }
      ]
    },
    {
      "cell_type": "code",
      "source": [
        "hijo_apellido"
      ],
      "metadata": {
        "colab": {
          "base_uri": "https://localhost:8080/",
          "height": 35
        },
        "id": "HF4p6NR3vk5o",
        "outputId": "36455a1f-0977-4c10-b7f6-b2a610a599ca"
      },
      "execution_count": null,
      "outputs": [
        {
          "output_type": "execute_result",
          "data": {
            "text/plain": [
              "'verdades'"
            ],
            "application/vnd.google.colaboratory.intrinsic+json": {
              "type": "string"
            }
          },
          "metadata": {},
          "execution_count": 37
        }
      ]
    },
    {
      "cell_type": "code",
      "source": [
        "nombre='Michael'\n",
        "apellido='Rodriguez'\n",
        "edad=31\n",
        "estado_civil='union libre'\n",
        "estatura_cm=160\n",
        "datos_personales=[nombre,apellido,edad,estado_civil,estatura_cm]"
      ],
      "metadata": {
        "id": "34Fz7sorvnJS"
      },
      "execution_count": null,
      "outputs": []
    },
    {
      "cell_type": "code",
      "source": [
        "datos_personales"
      ],
      "metadata": {
        "colab": {
          "base_uri": "https://localhost:8080/"
        },
        "id": "LRA8zYi9GbQk",
        "outputId": "b7baa6fd-e5ac-47c8-9241-d4032a4356d3"
      },
      "execution_count": null,
      "outputs": [
        {
          "output_type": "execute_result",
          "data": {
            "text/plain": [
              "['Michael', 'Rodriguez', 31, 'union libre', 160]"
            ]
          },
          "metadata": {},
          "execution_count": 3
        }
      ]
    },
    {
      "cell_type": "code",
      "source": [
        "familiares=[]"
      ],
      "metadata": {
        "id": "DE8LReMMGv2H"
      },
      "execution_count": null,
      "outputs": []
    },
    {
      "cell_type": "code",
      "source": [
        "familiares.append('viviana')#incluir en una lista vacia ej en familiares"
      ],
      "metadata": {
        "id": "Z4f8f6DIG0jK"
      },
      "execution_count": null,
      "outputs": []
    },
    {
      "cell_type": "code",
      "source": [
        "familiares.append('maria')\n",
        "familiares.append('alvaro')\n",
        "familiares.append('juliana')\n",
        "familiares"
      ],
      "metadata": {
        "colab": {
          "base_uri": "https://localhost:8080/"
        },
        "id": "pjfSpZQRG-lr",
        "outputId": "5ddf2218-3710-4487-8e2f-fbe4a5085714"
      },
      "execution_count": null,
      "outputs": [
        {
          "output_type": "execute_result",
          "data": {
            "text/plain": [
              "['viviana', 'maria', 'alvaro', 'juliana']"
            ]
          },
          "metadata": {},
          "execution_count": 6
        }
      ]
    },
    {
      "cell_type": "code",
      "source": [
        "familiares.insert(1,33)# al insertar se debe hacer de manera independiente no en un solo bloque"
      ],
      "metadata": {
        "id": "uGMRUKIUHOOi"
      },
      "execution_count": null,
      "outputs": []
    },
    {
      "cell_type": "code",
      "source": [
        "nombre_2=input(\"ingresa tu nombre:\") #input sirve para tomar datos de usuarios\n",
        "print (\"la verdad hoy estas terrible,\",nombre_2)"
      ],
      "metadata": {
        "colab": {
          "base_uri": "https://localhost:8080/"
        },
        "id": "cPQhGDiCHq4m",
        "outputId": "ed0685d9-4e53-4bfc-fd3b-b083fea66303"
      },
      "execution_count": null,
      "outputs": [
        {
          "output_type": "stream",
          "name": "stdout",
          "text": [
            "ingresa tu nombre:juan\n",
            "la verdad hoy estas terrible, juan\n"
          ]
        }
      ]
    },
    {
      "cell_type": "code",
      "source": [
        "#Para remover datos de las listas utilizo el metodo remove\n",
        "\n",
        "paises=['Venezuela','Colombia','Rusia','Peru','Brasil']"
      ],
      "metadata": {
        "id": "ML2xQkfBLdFP"
      },
      "execution_count": null,
      "outputs": []
    },
    {
      "cell_type": "code",
      "source": [
        "paises.remove(\"Rusia\")\n",
        "paises"
      ],
      "metadata": {
        "colab": {
          "base_uri": "https://localhost:8080/"
        },
        "id": "M5ipGS1GL46E",
        "outputId": "fa5effce-777c-4aa3-c517-638d1876ed8a"
      },
      "execution_count": null,
      "outputs": [
        {
          "output_type": "execute_result",
          "data": {
            "text/plain": [
              "['Venezuela', 'Colombia', 'Peru', 'Brasil']"
            ]
          },
          "metadata": {},
          "execution_count": 42
        }
      ]
    },
    {
      "cell_type": "code",
      "source": [
        "# para eliminar por posicion utilizo pop\n",
        "paises.pop(1)\n",
        "paises"
      ],
      "metadata": {
        "colab": {
          "base_uri": "https://localhost:8080/"
        },
        "id": "NPskef0tMjAa",
        "outputId": "862f159c-8779-492a-c342-97b66d8ea1cb"
      },
      "execution_count": null,
      "outputs": [
        {
          "output_type": "execute_result",
          "data": {
            "text/plain": [
              "['Venezuela', 'Peru', 'Brasil']"
            ]
          },
          "metadata": {},
          "execution_count": 43
        }
      ]
    },
    {
      "cell_type": "code",
      "source": [
        "#para eliminar definitivamente se utiliza del\n",
        "del paises [0]"
      ],
      "metadata": {
        "id": "zscc22yrMrZj"
      },
      "execution_count": null,
      "outputs": []
    },
    {
      "cell_type": "code",
      "source": [
        "paises"
      ],
      "metadata": {
        "colab": {
          "base_uri": "https://localhost:8080/"
        },
        "id": "XA3OK89KM6qu",
        "outputId": "f9f2d9cc-1d13-4dec-b890-244a47e2ee52"
      },
      "execution_count": null,
      "outputs": [
        {
          "output_type": "execute_result",
          "data": {
            "text/plain": [
              "['Peru', 'Brasil']"
            ]
          },
          "metadata": {},
          "execution_count": 45
        }
      ]
    },
    {
      "cell_type": "code",
      "source": [],
      "metadata": {
        "id": "_jMzZDZLOYnT"
      },
      "execution_count": null,
      "outputs": []
    },
    {
      "cell_type": "code",
      "source": [
        "#ordenar las listas, las puedo ordenar de mayor a menor o alfabeticamente con el metodo sort\n",
        "paises.sort()\n",
        "paises"
      ],
      "metadata": {
        "colab": {
          "base_uri": "https://localhost:8080/"
        },
        "id": "ZOtVXK8NN5Ym",
        "outputId": "d660d14a-5b9a-4ac0-981c-ddf94fecb5b9"
      },
      "execution_count": null,
      "outputs": [
        {
          "output_type": "execute_result",
          "data": {
            "text/plain": [
              "['Brasil', 'Peru']"
            ]
          },
          "metadata": {},
          "execution_count": 47
        }
      ]
    },
    {
      "cell_type": "code",
      "source": [
        "digitos=[2,4,8,6,1,9]\n",
        "digitos.sort()\n",
        "digitos"
      ],
      "metadata": {
        "colab": {
          "base_uri": "https://localhost:8080/"
        },
        "id": "41jgGeb8Oga2",
        "outputId": "8fdc5b6b-9be7-45b0-8882-42c60b00bc5d"
      },
      "execution_count": null,
      "outputs": [
        {
          "output_type": "execute_result",
          "data": {
            "text/plain": [
              "[1, 2, 4, 6, 8, 9]"
            ]
          },
          "metadata": {},
          "execution_count": 49
        }
      ]
    },
    {
      "cell_type": "code",
      "source": [
        "digitos.sort(reverse=True)\n",
        "digitos"
      ],
      "metadata": {
        "colab": {
          "base_uri": "https://localhost:8080/"
        },
        "id": "iCmwu638Oty1",
        "outputId": "111ef907-0b78-450c-80cf-fa6f9369aa1f"
      },
      "execution_count": null,
      "outputs": [
        {
          "output_type": "execute_result",
          "data": {
            "text/plain": [
              "[9, 8, 6, 4, 2, 1]"
            ]
          },
          "metadata": {},
          "execution_count": 51
        }
      ]
    },
    {
      "cell_type": "code",
      "source": [
        "paises.sort(reverse=True)\n",
        "paises"
      ],
      "metadata": {
        "colab": {
          "base_uri": "https://localhost:8080/"
        },
        "id": "89jvo8GXO8W1",
        "outputId": "285bdfe3-4f97-4855-94da-3a71cdc72852"
      },
      "execution_count": null,
      "outputs": [
        {
          "output_type": "execute_result",
          "data": {
            "text/plain": [
              "['Peru', 'Brasil']"
            ]
          },
          "metadata": {},
          "execution_count": 52
        }
      ]
    },
    {
      "cell_type": "code",
      "source": [
        "paises_copia_verdadera=paises.copy()\n",
        "paises_copia_verdadera"
      ],
      "metadata": {
        "colab": {
          "base_uri": "https://localhost:8080/"
        },
        "id": "6o2BiiXrPElq",
        "outputId": "f08c2104-1d14-44f6-a099-bffe0563e953"
      },
      "execution_count": null,
      "outputs": [
        {
          "output_type": "execute_result",
          "data": {
            "text/plain": [
              "['Peru', 'Brasil']"
            ]
          },
          "metadata": {},
          "execution_count": 53
        }
      ]
    },
    {
      "cell_type": "code",
      "source": [
        "paises_copia_verdadera_2=paises[:]\n",
        "paises_copia_verdadera_2"
      ],
      "metadata": {
        "colab": {
          "base_uri": "https://localhost:8080/"
        },
        "id": "Y4Gh2nVJPttI",
        "outputId": "2ef35298-a522-4730-c94e-a66a9d125ab7"
      },
      "execution_count": null,
      "outputs": [
        {
          "output_type": "execute_result",
          "data": {
            "text/plain": [
              "['Peru', 'Brasil']"
            ]
          },
          "metadata": {},
          "execution_count": 54
        }
      ]
    },
    {
      "cell_type": "markdown",
      "source": [
        "Diccionarios: son tipos de datos que tienen una llave y un valor, a la combinación de llave con valor, se le conoce como item en los diccionarios puedo usar metodos parecidos a los de las listas"
      ],
      "metadata": {
        "id": "OcYx9Dl-QKIL"
      }
    },
    {
      "cell_type": "code",
      "source": [
        "diccionario_ing_esp={\"casa\":\"house\",\"entender\":\"understand\",\"sediento\":\"thirty\",\"rojo\":\"red\",\"ocupado\":\"bussy\"}\n",
        "diccionario_ing_esp"
      ],
      "metadata": {
        "colab": {
          "base_uri": "https://localhost:8080/"
        },
        "id": "TrL65W7MP8DT",
        "outputId": "12e9adff-2f15-41d4-9cfd-a8eb2f5d7d09"
      },
      "execution_count": null,
      "outputs": [
        {
          "output_type": "execute_result",
          "data": {
            "text/plain": [
              "{'casa': 'house',\n",
              " 'entender': 'understand',\n",
              " 'sediento': 'thirty',\n",
              " 'rojo': 'red',\n",
              " 'ocupado': 'bussy'}"
            ]
          },
          "metadata": {},
          "execution_count": 57
        }
      ]
    },
    {
      "cell_type": "code",
      "source": [
        "#para ver un valor de una llave determinada lo hago de la siguiente manera\n",
        "diccionario_ing_esp['casa']"
      ],
      "metadata": {
        "colab": {
          "base_uri": "https://localhost:8080/",
          "height": 35
        },
        "id": "KEJFmYrjR92W",
        "outputId": "a236691b-e009-490a-9d00-74d8a1c48596"
      },
      "execution_count": null,
      "outputs": [
        {
          "output_type": "execute_result",
          "data": {
            "text/plain": [
              "'house'"
            ],
            "application/vnd.google.colaboratory.intrinsic+json": {
              "type": "string"
            }
          },
          "metadata": {},
          "execution_count": 58
        }
      ]
    },
    {
      "cell_type": "code",
      "source": [
        "#para traer todas las llaves de un diccionario, puedo utilizar el metodo keys\n",
        "diccionario_ing_esp.keys()"
      ],
      "metadata": {
        "colab": {
          "base_uri": "https://localhost:8080/"
        },
        "id": "RytB0QJgSQXY",
        "outputId": "5f93d70c-0df6-4c0d-bf54-6ba9891a39d7"
      },
      "execution_count": null,
      "outputs": [
        {
          "output_type": "execute_result",
          "data": {
            "text/plain": [
              "dict_keys(['casa', 'entender', 'sediento', 'rojo', 'ocupado'])"
            ]
          },
          "metadata": {},
          "execution_count": 59
        }
      ]
    },
    {
      "cell_type": "code",
      "source": [
        "#para traer los valores de un diccionario, puedo utilizar el metodo values\n",
        "diccionario_ing_esp.values()"
      ],
      "metadata": {
        "colab": {
          "base_uri": "https://localhost:8080/"
        },
        "id": "wGQyQCiPSdRL",
        "outputId": "be807d35-e4f8-4f7a-c337-52ca59f37c8d"
      },
      "execution_count": null,
      "outputs": [
        {
          "output_type": "execute_result",
          "data": {
            "text/plain": [
              "dict_values(['house', 'understand', 'thirty', 'red', 'bussy'])"
            ]
          },
          "metadata": {},
          "execution_count": 60
        }
      ]
    },
    {
      "cell_type": "code",
      "source": [
        "#para traer todo el diccionario\n",
        "diccionario_ing_esp"
      ],
      "metadata": {
        "colab": {
          "base_uri": "https://localhost:8080/"
        },
        "id": "EbGtUjYgSnWD",
        "outputId": "09844c21-e16e-430f-ea45-6728666b3314"
      },
      "execution_count": null,
      "outputs": [
        {
          "output_type": "execute_result",
          "data": {
            "text/plain": [
              "{'casa': 'house',\n",
              " 'entender': 'understand',\n",
              " 'sediento': 'thirty',\n",
              " 'rojo': 'red',\n",
              " 'ocupado': 'bussy'}"
            ]
          },
          "metadata": {},
          "execution_count": 61
        }
      ]
    },
    {
      "cell_type": "code",
      "source": [
        "diccionario_ing_esp.items()"
      ],
      "metadata": {
        "colab": {
          "base_uri": "https://localhost:8080/"
        },
        "id": "OUe0rL3NS8LM",
        "outputId": "f9b0170d-0513-4025-f883-825217d1aee1"
      },
      "execution_count": null,
      "outputs": [
        {
          "output_type": "execute_result",
          "data": {
            "text/plain": [
              "dict_items([('casa', 'house'), ('entender', 'understand'), ('sediento', 'thirty'), ('rojo', 'red'), ('ocupado', 'bussy')])"
            ]
          },
          "metadata": {},
          "execution_count": 62
        }
      ]
    },
    {
      "cell_type": "code",
      "source": [
        "type(diccionario_ing_esp)"
      ],
      "metadata": {
        "colab": {
          "base_uri": "https://localhost:8080/"
        },
        "id": "ds-93w6mS_nU",
        "outputId": "823be27b-4256-435a-fcf0-75fc12b8bc32"
      },
      "execution_count": null,
      "outputs": [
        {
          "output_type": "execute_result",
          "data": {
            "text/plain": [
              "dict"
            ]
          },
          "metadata": {},
          "execution_count": 63
        }
      ]
    },
    {
      "cell_type": "code",
      "source": [
        "#para agregar un nuevo elemento a un diccionario\n",
        "diccionario_ing_esp[\"azul\"]=\"blue\"\n",
        "diccionario_ing_esp"
      ],
      "metadata": {
        "colab": {
          "base_uri": "https://localhost:8080/"
        },
        "id": "f3l5WXYRTKEA",
        "outputId": "571716d2-d256-42b1-8fb7-a1afc1a65d5f"
      },
      "execution_count": null,
      "outputs": [
        {
          "output_type": "execute_result",
          "data": {
            "text/plain": [
              "{'casa': 'house',\n",
              " 'entender': 'understand',\n",
              " 'sediento': 'thirty',\n",
              " 'rojo': 'red',\n",
              " 'ocupado': 'bussy',\n",
              " 'azul': 'blue'}"
            ]
          },
          "metadata": {},
          "execution_count": 65
        }
      ]
    },
    {
      "cell_type": "code",
      "source": [
        "#para actualizar el diccionario, o añadir de otra forma\n",
        "diccionario_ing_esp.update({\"negro\":\"black\"})\n",
        "diccionario_ing_esp"
      ],
      "metadata": {
        "colab": {
          "base_uri": "https://localhost:8080/"
        },
        "id": "w32aBdVBTZKA",
        "outputId": "7eb72ee0-70c3-420c-ab7e-5c13dd89331f"
      },
      "execution_count": null,
      "outputs": [
        {
          "output_type": "execute_result",
          "data": {
            "text/plain": [
              "{'casa': 'house',\n",
              " 'entender': 'understand',\n",
              " 'sediento': 'thirty',\n",
              " 'rojo': 'red',\n",
              " 'ocupado': 'bussy',\n",
              " 'azul': 'blue',\n",
              " 'negro': 'black'}"
            ]
          },
          "metadata": {},
          "execution_count": 66
        }
      ]
    },
    {
      "cell_type": "code",
      "source": [
        "#tambien puedo agregar una lista dentro de un diccionario\n",
        "diccionario_ing_esp.update({\"gris\":\"grey\",\"pronombres\":[\"he\",\"she\",\"it\"]})\n",
        "diccionario_ing_esp"
      ],
      "metadata": {
        "colab": {
          "base_uri": "https://localhost:8080/"
        },
        "id": "OtiQ51mMT2Q9",
        "outputId": "b0b1695e-5786-453f-9f6e-236603097bf3"
      },
      "execution_count": null,
      "outputs": [
        {
          "output_type": "execute_result",
          "data": {
            "text/plain": [
              "{'casa': 'house',\n",
              " 'entender': 'understand',\n",
              " 'sediento': 'thirty',\n",
              " 'rojo': 'red',\n",
              " 'ocupado': 'bussy',\n",
              " 'azul': 'blue',\n",
              " 'negro': 'black',\n",
              " 'gris': 'grey',\n",
              " 'pronombres': ['he', 'she', 'it']}"
            ]
          },
          "metadata": {},
          "execution_count": 67
        }
      ]
    },
    {
      "cell_type": "code",
      "source": [
        "diccionario_ing_esp.values()"
      ],
      "metadata": {
        "colab": {
          "base_uri": "https://localhost:8080/"
        },
        "id": "7T8rwEzAUZd7",
        "outputId": "7e59fb2c-21c7-4166-dcc2-6f728d24e918"
      },
      "execution_count": null,
      "outputs": [
        {
          "output_type": "execute_result",
          "data": {
            "text/plain": [
              "dict_values(['house', 'understand', 'thirty', 'red', 'bussy', 'blue', 'black', 'grey', ['he', 'she', 'it']])"
            ]
          },
          "metadata": {},
          "execution_count": 69
        }
      ]
    },
    {
      "cell_type": "code",
      "source": [
        "#para borrar vamos a utilizar el metodo pop\n",
        "diccionario_ing_esp.pop(\"gris\")\n",
        "diccionario_ing_esp"
      ],
      "metadata": {
        "colab": {
          "base_uri": "https://localhost:8080/"
        },
        "id": "SQ9R1eg5VP_u",
        "outputId": "89a21a98-4d64-4a97-a771-af453a23c783"
      },
      "execution_count": null,
      "outputs": [
        {
          "output_type": "execute_result",
          "data": {
            "text/plain": [
              "{'casa': 'house',\n",
              " 'entender': 'understand',\n",
              " 'sediento': 'thirty',\n",
              " 'rojo': 'red',\n",
              " 'ocupado': 'bussy',\n",
              " 'azul': 'blue',\n",
              " 'negro': 'black',\n",
              " 'pronombres': ['he', 'she', 'it']}"
            ]
          },
          "metadata": {},
          "execution_count": 70
        }
      ]
    },
    {
      "cell_type": "code",
      "source": [
        "# metodo del\n",
        "del diccionario_ing_esp [\"pronombres\"]\n",
        "diccionario_ing_esp"
      ],
      "metadata": {
        "colab": {
          "base_uri": "https://localhost:8080/"
        },
        "id": "Qlh-77EUVrt7",
        "outputId": "55f9a338-71f3-451a-fc59-83f9de518e68"
      },
      "execution_count": null,
      "outputs": [
        {
          "output_type": "execute_result",
          "data": {
            "text/plain": [
              "{'casa': 'house',\n",
              " 'entender': 'understand',\n",
              " 'sediento': 'thirty',\n",
              " 'rojo': 'red',\n",
              " 'ocupado': 'bussy',\n",
              " 'azul': 'blue',\n",
              " 'negro': 'black'}"
            ]
          },
          "metadata": {},
          "execution_count": 71
        }
      ]
    },
    {
      "cell_type": "code",
      "source": [],
      "metadata": {
        "id": "0DKA1lAlV1wv"
      },
      "execution_count": null,
      "outputs": []
    },
    {
      "cell_type": "markdown",
      "source": [
        "operadores logicos se usan para comprobar condiciones y devolver true o false, dependiendo cual sea el caso, son esenciales para la toma de decisiones y para la creacion de la logica de programacion\n"
      ],
      "metadata": {
        "id": "tQVsdmY_bkqz"
      }
    },
    {
      "cell_type": "code",
      "source": [
        "#el primero es AND que traduce y\n",
        "print(\"operador AND (que significa y)\")\n",
        "print(\"para que Y sea verdadero todas las condiciones deben ser verdaderas\")\n",
        "5>3 and 5<10"
      ],
      "metadata": {
        "colab": {
          "base_uri": "https://localhost:8080/"
        },
        "id": "7VDVnGyPbyNA",
        "outputId": "0ed69b74-3c06-4087-db58-f7aa5ea79788"
      },
      "execution_count": null,
      "outputs": [
        {
          "output_type": "stream",
          "name": "stdout",
          "text": [
            "operador AND (que significa y)\n",
            "para que Y sea verdadero todas las condiciones deben ser verdaderas\n"
          ]
        },
        {
          "output_type": "execute_result",
          "data": {
            "text/plain": [
              "True"
            ]
          },
          "metadata": {},
          "execution_count": 73
        }
      ]
    },
    {
      "cell_type": "code",
      "source": [
        "5<3 and 5<10"
      ],
      "metadata": {
        "colab": {
          "base_uri": "https://localhost:8080/"
        },
        "id": "VIDCc4WUcC1b",
        "outputId": "8bbf0463-4faa-4f7e-a987-cd2e0df61d62"
      },
      "execution_count": null,
      "outputs": [
        {
          "output_type": "execute_result",
          "data": {
            "text/plain": [
              "False"
            ]
          },
          "metadata": {},
          "execution_count": 74
        }
      ]
    },
    {
      "cell_type": "code",
      "source": [
        "# para usar O se usa la palabra reservada or en or por lo menos una de las condiciones debe ser verdadera\n",
        "5<3 or 5<10"
      ],
      "metadata": {
        "colab": {
          "base_uri": "https://localhost:8080/"
        },
        "id": "fQZLXwG-cXNi",
        "outputId": "d5fa691e-d752-43f8-e252-ffe070f4f9a1"
      },
      "execution_count": null,
      "outputs": [
        {
          "output_type": "execute_result",
          "data": {
            "text/plain": [
              "True"
            ]
          },
          "metadata": {},
          "execution_count": 75
        }
      ]
    },
    {
      "cell_type": "code",
      "source": [
        "5<3 or 5>10"
      ],
      "metadata": {
        "colab": {
          "base_uri": "https://localhost:8080/"
        },
        "id": "0d-hhQLhc1rd",
        "outputId": "98465012-9b80-4bce-971d-ee018513b0ea"
      },
      "execution_count": null,
      "outputs": [
        {
          "output_type": "execute_result",
          "data": {
            "text/plain": [
              "False"
            ]
          },
          "metadata": {},
          "execution_count": 76
        }
      ]
    },
    {
      "cell_type": "code",
      "source": [
        "# existe otro operador logico que es el NOT\n",
        "print(\"operador not (negación logica)\")\n",
        "not 5>3"
      ],
      "metadata": {
        "colab": {
          "base_uri": "https://localhost:8080/"
        },
        "id": "Z9753Ixtc8x6",
        "outputId": "45078934-54ee-42aa-c735-64f8056ab088"
      },
      "execution_count": null,
      "outputs": [
        {
          "output_type": "stream",
          "name": "stdout",
          "text": [
            "operador not (negación logica)\n"
          ]
        },
        {
          "output_type": "execute_result",
          "data": {
            "text/plain": [
              "False"
            ]
          },
          "metadata": {},
          "execution_count": 77
        }
      ]
    },
    {
      "cell_type": "markdown",
      "source": [
        "operaciones matematicas, en este momento se utilizaran las mas basicas que son el lenguaje para la programcion, suma, resta, multiplicación, division, potenciacion y modulo"
      ],
      "metadata": {
        "id": "CHQOhri0dm-7"
      }
    },
    {
      "cell_type": "code",
      "source": [
        "# suma se representa con el simbolo + y sirve tambien para concatenar\n",
        "6+5"
      ],
      "metadata": {
        "colab": {
          "base_uri": "https://localhost:8080/"
        },
        "id": "szM7ZQK3dYYV",
        "outputId": "8a9c599f-bc97-421d-af23-19a1c11e3ae1"
      },
      "execution_count": null,
      "outputs": [
        {
          "output_type": "execute_result",
          "data": {
            "text/plain": [
              "11"
            ]
          },
          "metadata": {},
          "execution_count": 78
        }
      ]
    },
    {
      "cell_type": "code",
      "source": [
        "#resta se representa con el simbolo -\n",
        "6-5"
      ],
      "metadata": {
        "colab": {
          "base_uri": "https://localhost:8080/"
        },
        "id": "ax_dF8Brd4vt",
        "outputId": "1f02777f-bdce-4416-8a70-9852571cd542"
      },
      "execution_count": null,
      "outputs": [
        {
          "output_type": "execute_result",
          "data": {
            "text/plain": [
              "1"
            ]
          },
          "metadata": {},
          "execution_count": 79
        }
      ]
    },
    {
      "cell_type": "code",
      "source": [
        "#Multiplicacion se representa con el simbolo *\n",
        "2*6"
      ],
      "metadata": {
        "colab": {
          "base_uri": "https://localhost:8080/"
        },
        "id": "jKxIAkPWd9a4",
        "outputId": "5a116545-bb65-44e3-dd47-05733497cb4d"
      },
      "execution_count": null,
      "outputs": [
        {
          "output_type": "execute_result",
          "data": {
            "text/plain": [
              "12"
            ]
          },
          "metadata": {},
          "execution_count": 80
        }
      ]
    },
    {
      "cell_type": "code",
      "source": [
        "edad_usuario=int(input('Hola para ingresar por favor comprueba tu edad'))\n",
        "if edad_usuario >= 18:\n",
        "  print('Bienvenido, puedes apostar tu casa')\n",
        "elif edad_usuario >=13:\n",
        "  print('Eres un adolecente,pero no te preocupes TE ESPERAMOS')\n",
        "else:\n",
        "  print('Eres pequeño, no puedes apostar')"
      ],
      "metadata": {
        "id": "zNQ0A7EQeCsh",
        "colab": {
          "base_uri": "https://localhost:8080/"
        },
        "outputId": "3ebefdae-d389-4e91-9c42-1d903142d8d6"
      },
      "execution_count": null,
      "outputs": [
        {
          "output_type": "stream",
          "name": "stdout",
          "text": [
            "Hola para ingresar por favor comprueba tu edad14\n",
            "Eres un adolecente,pero no te preocupes TE ESPERAMOS\n"
          ]
        }
      ]
    },
    {
      "cell_type": "code",
      "source": [
        "Mayor_Menor=int(input('Ingresa tu edad'))\n",
        "if Mayor_Menor >= 18:\n",
        "  print('Eres mayor de edad')\n",
        "else:\n",
        "    print('Eres menor de edad')"
      ],
      "metadata": {
        "colab": {
          "base_uri": "https://localhost:8080/"
        },
        "id": "B4cBQnBmfkqS",
        "outputId": "5368cee9-5e9c-442c-ef68-d91a80b059a9"
      },
      "execution_count": null,
      "outputs": [
        {
          "output_type": "stream",
          "name": "stdout",
          "text": [
            "Ingresa tu edad17\n",
            "Eres menor de edad\n"
          ]
        }
      ]
    },
    {
      "cell_type": "code",
      "source": [
        "numero_1=int(input('ingresa un número'))\n",
        "numero_2=int(input('ingresa un segundo numero'))\n",
        "suma=numero_1+numero_2\n",
        "multiplicación=numero_1*numero_2\n",
        "resta=numero_1-numero_2\n",
        "division=numero_1/numero_2\n",
        "print('resultado de suma: ', suma)\n",
        "print('resultado multiplicación', multiplicación)\n",
        "print('resultado resta', resta)\n",
        "print('resultado division', division)"
      ],
      "metadata": {
        "colab": {
          "base_uri": "https://localhost:8080/"
        },
        "id": "pjo2Xr8pgPAv",
        "outputId": "1c7a8d12-a189-4cb3-d9b7-67e293ced7f9"
      },
      "execution_count": null,
      "outputs": [
        {
          "output_type": "stream",
          "name": "stdout",
          "text": [
            "ingresa un número2\n",
            "ingresa un segundo numero8\n",
            "resultado de suma:  10\n",
            "resultado multiplicación 16\n",
            "resultado resta -6\n",
            "resultado division 0.25\n"
          ]
        }
      ]
    },
    {
      "cell_type": "markdown",
      "source": [
        "**Ciclos y bucles:** Son estructuras de codigo que me permiten iterar sobre una estructura o un rango, existen dos tipos de ciclos mas usados, los for que significa para o los wait que significa mientras que."
      ],
      "metadata": {
        "id": "5xU28e8PuC5X"
      }
    },
    {
      "cell_type": "code",
      "source": [
        "# de esta maner es la estructura de los ciclos for\n",
        "#for <variable>int<lista o rango>:\n",
        "#<ejecutable>\n",
        "paises=['Rusia','Paraguay','Colombia','Argentina','Brasil']\n",
        "paises"
      ],
      "metadata": {
        "colab": {
          "base_uri": "https://localhost:8080/"
        },
        "id": "p1BWpc6ZuVwN",
        "outputId": "98e22955-d3fe-4db4-970e-6ffa5363fe76"
      },
      "execution_count": null,
      "outputs": [
        {
          "output_type": "execute_result",
          "data": {
            "text/plain": [
              "['Rusia', 'Paraguay', 'Colombia', 'Argentina', 'Brasil']"
            ]
          },
          "metadata": {},
          "execution_count": 14
        }
      ]
    },
    {
      "cell_type": "code",
      "source": [
        "for i in paises:\n",
        " print (i)"
      ],
      "metadata": {
        "colab": {
          "base_uri": "https://localhost:8080/"
        },
        "id": "Z_ApoQwEwJTX",
        "outputId": "1a0cc283-37cb-4424-fc9f-aa5557ffd050"
      },
      "execution_count": null,
      "outputs": [
        {
          "output_type": "stream",
          "name": "stdout",
          "text": [
            "Rusia\n",
            "Paraguay\n",
            "Colombia\n",
            "Argentina\n",
            "Brasil\n"
          ]
        }
      ]
    },
    {
      "cell_type": "code",
      "source": [
        "for i in paises:\n",
        "  if i == 'Brasil':\n",
        "   print(\"este pais es infiltrado\")"
      ],
      "metadata": {
        "colab": {
          "base_uri": "https://localhost:8080/"
        },
        "id": "wKlevjgWwrII",
        "outputId": "f612e17d-bfe3-4c0e-b89a-eee4710206f7"
      },
      "execution_count": null,
      "outputs": [
        {
          "output_type": "stream",
          "name": "stdout",
          "text": [
            "este pais es infiltrado\n"
          ]
        }
      ]
    },
    {
      "cell_type": "code",
      "source": [
        "for numero, i in enumerate(paises):\n",
        "  print(numero)\n",
        "  print(i)"
      ],
      "metadata": {
        "colab": {
          "base_uri": "https://localhost:8080/"
        },
        "id": "jnEnp31IxB6H",
        "outputId": "8f04354c-5246-4545-d9e1-018289f4e0bc"
      },
      "execution_count": null,
      "outputs": [
        {
          "output_type": "stream",
          "name": "stdout",
          "text": [
            "0\n",
            "Rusia\n",
            "1\n",
            "Paraguay\n",
            "2\n",
            "Colombia\n",
            "3\n",
            "Argentina\n",
            "4\n",
            "Brasil\n"
          ]
        }
      ]
    },
    {
      "cell_type": "code",
      "source": [
        "#Funcion len que me da una longitud de una regla\n",
        "len(paises)"
      ],
      "metadata": {
        "colab": {
          "base_uri": "https://localhost:8080/"
        },
        "id": "rM-NLpXq3BBy",
        "outputId": "050f179a-f793-45a9-d7dd-3edb3b019417"
      },
      "execution_count": null,
      "outputs": [
        {
          "output_type": "execute_result",
          "data": {
            "text/plain": [
              "5"
            ]
          },
          "metadata": {},
          "execution_count": 23
        }
      ]
    },
    {
      "cell_type": "code",
      "source": [
        "# Funcion \"max\" me sirve para mostrar el numero mas grande de un arreglo\n",
        "max(1,5,6,7,4,3,4,5,9)"
      ],
      "metadata": {
        "colab": {
          "base_uri": "https://localhost:8080/"
        },
        "id": "Uq6WAMmr3WcZ",
        "outputId": "55f8602c-209b-4016-fc2c-0b60749b50a4"
      },
      "execution_count": null,
      "outputs": [
        {
          "output_type": "execute_result",
          "data": {
            "text/plain": [
              "9"
            ]
          },
          "metadata": {},
          "execution_count": 24
        }
      ]
    },
    {
      "cell_type": "code",
      "source": [
        "# funcion \"min\" me sirve para mostrar el valor mas bajo de un arreglo\n",
        "min(3,5,7,8,2,5)"
      ],
      "metadata": {
        "colab": {
          "base_uri": "https://localhost:8080/"
        },
        "id": "Xg67k0iE3knQ",
        "outputId": "2e5cbc0e-6db5-4767-d39f-ae4f721adbbd"
      },
      "execution_count": null,
      "outputs": [
        {
          "output_type": "execute_result",
          "data": {
            "text/plain": [
              "2"
            ]
          },
          "metadata": {},
          "execution_count": 25
        }
      ]
    },
    {
      "cell_type": "code",
      "source": [
        "#Type nos sirve para saber el tipo de datos de una variable\n",
        "type(paises)"
      ],
      "metadata": {
        "colab": {
          "base_uri": "https://localhost:8080/"
        },
        "id": "vud4Ymuq35w3",
        "outputId": "ce99aa91-2d5c-46e4-c6c0-085fd5634a7c"
      },
      "execution_count": null,
      "outputs": [
        {
          "output_type": "execute_result",
          "data": {
            "text/plain": [
              "list"
            ]
          },
          "metadata": {},
          "execution_count": 26
        }
      ]
    },
    {
      "cell_type": "code",
      "source": [
        "#round me sirve para redondear decimales\n",
        "round(3.141624,2)"
      ],
      "metadata": {
        "colab": {
          "base_uri": "https://localhost:8080/"
        },
        "id": "dB3VEJR84BCq",
        "outputId": "269133ae-cb4e-4943-cbc7-d55fd524e8ed"
      },
      "execution_count": null,
      "outputs": [
        {
          "output_type": "execute_result",
          "data": {
            "text/plain": [
              "3.14"
            ]
          },
          "metadata": {},
          "execution_count": 29
        }
      ]
    },
    {
      "cell_type": "code",
      "source": [
        "# range para crear una secuencia de numeros tiene 3 argumentos el inicio, el final, el paso\n",
        "contar=range(0,200,5)"
      ],
      "metadata": {
        "id": "Q81ou5Pq4Qgh"
      },
      "execution_count": null,
      "outputs": []
    },
    {
      "cell_type": "code",
      "source": [
        "for i in contar:\n",
        "  print (i)"
      ],
      "metadata": {
        "colab": {
          "base_uri": "https://localhost:8080/"
        },
        "id": "GnQVnsum4qXs",
        "outputId": "bbb8f87c-f130-4558-8869-26e983c4e1a8"
      },
      "execution_count": null,
      "outputs": [
        {
          "output_type": "stream",
          "name": "stdout",
          "text": [
            "0\n",
            "5\n",
            "10\n",
            "15\n",
            "20\n",
            "25\n",
            "30\n",
            "35\n",
            "40\n",
            "45\n",
            "50\n",
            "55\n",
            "60\n",
            "65\n",
            "70\n",
            "75\n",
            "80\n",
            "85\n",
            "90\n",
            "95\n",
            "100\n",
            "105\n",
            "110\n",
            "115\n",
            "120\n",
            "125\n",
            "130\n",
            "135\n",
            "140\n",
            "145\n",
            "150\n",
            "155\n",
            "160\n",
            "165\n",
            "170\n",
            "175\n",
            "180\n",
            "185\n",
            "190\n",
            "195\n"
          ]
        }
      ]
    },
    {
      "cell_type": "code",
      "source": [
        "# funciones propias me sirve para reutilizar codigo\n",
        "# la palabra reservada para declarar una funcion es \"def\"\n",
        "def suma(a,b):\n",
        "  resultado=a+b\n",
        "  return resultado"
      ],
      "metadata": {
        "id": "NxeNaBCi42tP"
      },
      "execution_count": null,
      "outputs": []
    },
    {
      "cell_type": "code",
      "source": [
        "# llamo la funcion declara anteriormente\n",
        "suma(2,5)"
      ],
      "metadata": {
        "colab": {
          "base_uri": "https://localhost:8080/"
        },
        "id": "q67DsAZ742qP",
        "outputId": "be044df3-09b6-4323-864f-1dae53a7e987"
      },
      "execution_count": null,
      "outputs": [
        {
          "output_type": "execute_result",
          "data": {
            "text/plain": [
              "7"
            ]
          },
          "metadata": {},
          "execution_count": 36
        }
      ]
    },
    {
      "cell_type": "code",
      "source": [
        "def pan(pan,precio):\n",
        "  precio_pan=pan*precio\n",
        "  return precio_pan"
      ],
      "metadata": {
        "id": "fygwvVjG5teI"
      },
      "execution_count": null,
      "outputs": []
    },
    {
      "cell_type": "code",
      "source": [
        "cantidad=int(input(\"buenos dias cuanto pan necesita\"))\n",
        "valor=int(input(\"valor pan\"))\n",
        "pan(cantidad,valor)"
      ],
      "metadata": {
        "colab": {
          "base_uri": "https://localhost:8080/"
        },
        "id": "gwM4FBw46eU5",
        "outputId": "8afb5e09-53a6-4779-b17d-843ed5d28f2d"
      },
      "execution_count": null,
      "outputs": [
        {
          "name": "stdout",
          "output_type": "stream",
          "text": [
            "buenos dias cuanto pan necesita5\n",
            "valor pan500\n"
          ]
        },
        {
          "output_type": "execute_result",
          "data": {
            "text/plain": [
              "2500"
            ]
          },
          "metadata": {},
          "execution_count": 60
        }
      ]
    },
    {
      "cell_type": "code",
      "source": [
        "def division(a,b):\n",
        "  resultado_division=a/b\n",
        "  return resultado_division"
      ],
      "metadata": {
        "id": "ZL6VqyHS9EVz"
      },
      "execution_count": null,
      "outputs": []
    },
    {
      "cell_type": "code",
      "source": [
        "division(5,2)"
      ],
      "metadata": {
        "colab": {
          "base_uri": "https://localhost:8080/"
        },
        "id": "f9UL_CU89O7k",
        "outputId": "fae91a5e-1fb2-495a-de0a-1772f7d89e04"
      },
      "execution_count": null,
      "outputs": [
        {
          "output_type": "execute_result",
          "data": {
            "text/plain": [
              "2.5"
            ]
          },
          "metadata": {},
          "execution_count": 62
        }
      ]
    },
    {
      "cell_type": "markdown",
      "source": [
        "#Ejercicio: escribe un programa que calcule el total de una compra de supermercado, el usuario debe ingresar el precio de dos productos y las cantidades que desee comprar de cada uno luego el programa debera permitir al usuario: sumar los precios de ambos productos. multiplicar los precios por las cantidades de productos para obtener el precio total restar un descuento del precio total (si el usuario tiene un cupon). Dividir el total entre dos personas por si desean dividir la cuenta.\n",
        "\n",
        "dividir entre 0 / if b !=0: return a/b else: return print (\"no se puede dividir entre 0)"
      ],
      "metadata": {
        "id": "GJQ4m2cc91A7"
      }
    },
    {
      "cell_type": "code",
      "source": [
        "#Ejercicio: escribe un programa que calcule el total de una compra de supermercado, el usuario debe ingresar el precio de dos productos y las cantidades que desee comprar de cada uno luego el programa debera permitir al usuario: sumar los precios de ambos productos. multiplicar los precios por las cantidades de productos para obtener el precio total restar un descuento del precio total (si el usuario tiene un cupon). Dividir el total entre dos personas por si desean dividir la cuenta.\n",
        "#Multiplicar\n",
        "#Suma\n",
        "#resta\n",
        "#Division"
      ],
      "metadata": {
        "id": "oW0FfKHA9UwP"
      },
      "execution_count": null,
      "outputs": []
    },
    {
      "cell_type": "code",
      "source": [
        "def suma(a,b):\n",
        "  suma_producto=a+b\n",
        "  return suma_producto\n",
        "def multiplicacion(a,b):\n",
        "  resultado_multiplicacion=a*b\n",
        "  return resultado_multiplicacion\n",
        "def division(a,b):\n",
        "  if b !=0:\n",
        "    return a/b\n",
        "  else:\n",
        "    return print (\"No se puede dividir entre 0\")\n",
        "def resta(a,b):\n",
        "  resultado_resta=a-b\n",
        "  return resultado_resta"
      ],
      "metadata": {
        "id": "9yDkX5Dt-SNt"
      },
      "execution_count": null,
      "outputs": []
    },
    {
      "cell_type": "code",
      "source": [
        "print(\"Bienvenido a supermarket\")\n",
        "Precio_Producto_A=float(input(\"ingresa el precio del producto seleccionado\"))\n",
        "Cantidad_producto_A=int(input(\"ingresa la cantidad del producto seleccionado\"))\n",
        "Precio_Producto_B=float(input(\"ingresa el precio del producto seleccionado\"))\n",
        "Cantidad_producto_B=int(input(\"ingresa la cantidad del producto seleccionado\"))\n",
        "Operacion=(input(\"\"\"Bienvenido como estas cuentame que quieres hacer\n",
        "1. Sumar los precios de ambos productos\n",
        "2. calcular el costo total multiplicando Precio * Cantidad\n",
        "3. Aplicar un descuento al total\n",
        "4. dividir el total entre dos personas\n",
        "No olvides que solo puedes seleccionar 1,2,3 ó 4: \"\"\"))\n",
        "if Operacion==\"1\":\n",
        "  total_precio=suma_producto(Precio_Producto_A,Precio_Producto_B)\n",
        "  print(total_precio)"
      ],
      "metadata": {
        "colab": {
          "base_uri": "https://localhost:8080/",
          "height": 384
        },
        "id": "OWyF6e-CADN2",
        "outputId": "96167088-9acf-4426-9aae-7c25e2fe8e38"
      },
      "execution_count": null,
      "outputs": [
        {
          "name": "stdout",
          "output_type": "stream",
          "text": [
            "Bienvenido a supermarket\n",
            "ingresa el precio del producto seleccionado3\n",
            "ingresa la cantidad del producto seleccionado5\n",
            "ingresa el precio del producto seleccionado2\n",
            "ingresa la cantidad del producto seleccionado6\n",
            "Bienvenido como estas cuentame que quieres hacer\n",
            "1. Sumar los precios de ambos productos\n",
            "2. calcular el costo total multiplicando Precio * Cantidad\n",
            "3. Aplicar un descuento al total\n",
            "4. dividir el total entre dos personas\n",
            "No olvides que solo puedes seleccionar 1,2,3 ó 4: 1\n"
          ]
        },
        {
          "output_type": "error",
          "ename": "NameError",
          "evalue": "name 'suma_producto' is not defined",
          "traceback": [
            "\u001b[0;31m---------------------------------------------------------------------------\u001b[0m",
            "\u001b[0;31mNameError\u001b[0m                                 Traceback (most recent call last)",
            "\u001b[0;32m<ipython-input-75-ba1289a23899>\u001b[0m in \u001b[0;36m<cell line: 12>\u001b[0;34m()\u001b[0m\n\u001b[1;32m     11\u001b[0m No olvides que solo puedes seleccionar 1,2,3 ó 4: \"\"\"))\n\u001b[1;32m     12\u001b[0m \u001b[0;32mif\u001b[0m \u001b[0mOperacion\u001b[0m\u001b[0;34m==\u001b[0m\u001b[0;34m\"1\"\u001b[0m\u001b[0;34m:\u001b[0m\u001b[0;34m\u001b[0m\u001b[0;34m\u001b[0m\u001b[0m\n\u001b[0;32m---> 13\u001b[0;31m   \u001b[0mtotal_precio\u001b[0m\u001b[0;34m=\u001b[0m\u001b[0msuma_producto\u001b[0m\u001b[0;34m(\u001b[0m\u001b[0mPrecio_Producto_A\u001b[0m\u001b[0;34m,\u001b[0m\u001b[0mPrecio_Producto_B\u001b[0m\u001b[0;34m)\u001b[0m\u001b[0;34m\u001b[0m\u001b[0;34m\u001b[0m\u001b[0m\n\u001b[0m\u001b[1;32m     14\u001b[0m   \u001b[0mprint\u001b[0m\u001b[0;34m(\u001b[0m\u001b[0mtotal_precio\u001b[0m\u001b[0;34m)\u001b[0m\u001b[0;34m\u001b[0m\u001b[0;34m\u001b[0m\u001b[0m\n",
            "\u001b[0;31mNameError\u001b[0m: name 'suma_producto' is not defined"
          ]
        }
      ]
    }
  ]
}